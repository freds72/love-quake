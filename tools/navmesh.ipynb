{
 "cells": [
  {
   "cell_type": "code",
   "execution_count": 3,
   "metadata": {},
   "outputs": [
    {
     "name": "stdout",
     "output_type": "stream",
     "text": [
      "Solid points: 264355/264355\n"
     ]
    },
    {
     "data": {
      "application/vnd.jupyter.widget-view+json": {
       "model_id": "728faaafdbc04f14845a91b73c03aa49",
       "version_major": 2,
       "version_minor": 0
      },
      "text/plain": [
       "ViewInteractiveWidget(height=768, layout=Layout(height='auto', width='100%'), width=1024)"
      ]
     },
     "metadata": {},
     "output_type": "display_data"
    }
   ],
   "source": [
    "from pathlib import Path\n",
    "from vgio.quake.bsp import Bsp\n",
    "import pyvista as pv\n",
    "import numpy as np\n",
    "from dotdict import dotdict\n",
    "\n",
    "quake_root = Path(\"D:\\\\Games\\\\quake\")\n",
    "\n",
    "pv.set_jupyter_backend('ipyvtklink')  \n",
    "# pv.set_jupyter_backend('pythreejs')  \n",
    "\n",
    "content_types = {}\n",
    "content_types[-1]=dotdict({\"contents\":\"CONTENTS_EMPTY\"})\n",
    "content_types[-2]=dotdict({\"contents\":\"CONTENTS_SOLID\"})\n",
    "content_types[-3]=dotdict({\"contents\":\"CONTENTS_WATER\"})\n",
    "content_types[-4]=dotdict({\"contents\":\"CONTENTS_SLIME\"})\n",
    "content_types[-5]=dotdict({\"contents\":\"CONTENTS_LAVA\"})\n",
    "content_types[-6]=dotdict({\"contents\":\"CONTENTS_SKY\"})\n",
    "\n",
    "def classify_point(plane, p):\n",
    "   n = plane.normal\n",
    "   return n[0]*p[0] + n[1]*p[1] + n[2]*p[2] > plane.distance and 1 or 0\n",
    "\n",
    "def bsp_locate(node,pos):\n",
    "    while not node.contents:\n",
    "        node = node.children[classify_point(node.plane,pos)]    \n",
    "    return node\n",
    "\n",
    "def read_bsp(name):\n",
    "   with Bsp.open(f\"D:\\\\Games\\\\quake\\\\id1\\\\maps\\\\{name}.bsp\") as bsp_file:\n",
    "      planes = bsp_file.planes\n",
    "      meshes = bsp_file.meshes()            \n",
    "      clipnodes = bsp_file.clip_nodes\n",
    "\n",
    "      # main model\n",
    "      model = bsp_file.models[0]\n",
    "\n",
    "      hulls = []\n",
    "      for node in clipnodes:\n",
    "         hulls.append(dotdict({\n",
    "            \"plane\": planes[node.plane_number],\n",
    "            \"children\": [node.children[0], node.children[1]]\n",
    "         }))\n",
    "      for node in hulls:\n",
    "         def attach_node(side):\n",
    "            children = node.children\n",
    "            id = children[side] \n",
    "            if id<0:\n",
    "               children[side] = content_types[id]\n",
    "            else:\n",
    "               children[side] = hulls[id]\n",
    "         attach_node(0)\n",
    "         attach_node(1)\n",
    "      # display 32 unit bsp\n",
    "      def dump_hull(node):\n",
    "         content = node.get(\"content\", None)\n",
    "         if content:\n",
    "            print(content)\n",
    "         else:\n",
    "            children = node.get(\"children\")\n",
    "            dump_hull(children[0])\n",
    "            dump_hull(children[1])\n",
    "      # dump_hull(hulls[bsp_file.models[0].head_node[1]])\n",
    "\n",
    "      tris = []\n",
    "      for t in meshes[0].triangles:\n",
    "         l = [len(t)]\n",
    "         l.extend(t)\n",
    "         tris += l\n",
    "      return pv.PolyData(np.array(meshes[0].vertices), np.hstack(tris)), model, hulls\n",
    "\n",
    "pdata, model, hulls = read_bsp(\"lifts\")\n",
    "pl = pv.Plotter()\n",
    "# base geometry\n",
    "pl.add_mesh(pdata, style='wireframe')\n",
    "\n",
    "inside = []\n",
    "root_node = hulls[model.head_node[0]]\n",
    "bmin = model.bounding_box_min\n",
    "bmax = model.bounding_box_max\n",
    "total = 0\n",
    "for x in range(int(bmin[0]), int(bmax[0]), 8):\n",
    "   for y in range(int(bmin[1]), int(bmax[1]), 8):\n",
    "      for z in range(int(bmin[2]), int(bmax[2]), 8):\n",
    "         pos = [float(x),float(y),float(z)]\n",
    "         total += 1\n",
    "         if bsp_locate(root_node,[x,y,z]).contents!=-2:\n",
    "            inside.append(pos)\n",
    "print(f\"Solid points: {len(inside)}/{total}\")\n",
    "pempty = pv.PolyData(np.array(inside))\n",
    "pl.add_mesh(pempty, point_size=1.0)\n",
    "\n",
    "pl.show_grid()\n",
    "pl.show()\n"
   ]
  }
 ],
 "metadata": {
  "kernelspec": {
   "display_name": ".env",
   "language": "python",
   "name": "python3"
  },
  "language_info": {
   "codemirror_mode": {
    "name": "ipython",
    "version": 3
   },
   "file_extension": ".py",
   "mimetype": "text/x-python",
   "name": "python",
   "nbconvert_exporter": "python",
   "pygments_lexer": "ipython3",
   "version": "3.9.13"
  },
  "orig_nbformat": 4,
  "vscode": {
   "interpreter": {
    "hash": "34e1fddeeb4c932d8052504464830a0044a79ac099b59b3703650aec8f4a9a9e"
   }
  }
 },
 "nbformat": 4,
 "nbformat_minor": 2
}
